{
 "cells": [
  {
   "cell_type": "markdown",
   "metadata": {},
   "source": [
    "# Pygame 基础操作\n",
    "\n",
    "\n",
    "1. Pygame缔造者: Sam Lantinga\n",
    "2. Pygame基础操作\n",
    "    * flappy bird基本背景图像"
   ]
  },
  {
   "cell_type": "markdown",
   "metadata": {},
   "source": [
    "## 1. Pygame缔造者: Sam Lantinga"
   ]
  },
  {
   "cell_type": "markdown",
   "metadata": {},
   "source": [
    "拜见大神Sam Lantinga\n",
    "\n",
    "<img src='./course_related/Sam.jpg',width=500>"
   ]
  },
  {
   "cell_type": "markdown",
   "metadata": {},
   "source": [
    "* 致力于将windows下的游戏移植到Linux下面\n",
    "    * Civilization: Call To Power 文明\n",
    "    * 等等\n",
    "* 暴雪的首席程序员\n",
    "    * 魔兽世界Linux版\n",
    "* 被Steam招募"
   ]
  },
  {
   "cell_type": "markdown",
   "metadata": {},
   "source": [
    "# 2. Pygame基本操作"
   ]
  },
  {
   "cell_type": "code",
   "execution_count": null,
   "metadata": {
    "collapsed": true
   },
   "outputs": [],
   "source": []
  },
  {
   "cell_type": "code",
   "execution_count": null,
   "metadata": {
    "collapsed": true
   },
   "outputs": [],
   "source": []
  },
  {
   "cell_type": "code",
   "execution_count": null,
   "metadata": {
    "collapsed": true
   },
   "outputs": [],
   "source": []
  },
  {
   "cell_type": "markdown",
   "metadata": {},
   "source": [
    "### 2.1. flappy bird基本背景图像\n"
   ]
  },
  {
   "cell_type": "code",
   "execution_count": null,
   "metadata": {},
   "outputs": [],
   "source": [
    "# 基本的元素\n",
    "BACKGROUND_PATH = './assets/sprites/background-black.png'\n",
    "PIPE_PATH = './assets/sprites/pipe-green.png'\n",
    "BASE_PATH = './assets/sprites/base.png'\n",
    "PLAYER_PATH = (\n",
    "        './assets/sprites/redbird-upflap.png',\n",
    "        './assets/sprites/redbird-midflap.png',\n",
    "        './assets/sprites/redbird-downflap.png'\n",
    ")\n",
    "SCREENWIDTH  = 288\n",
    "SCREENHEIGHT = 512\n",
    "IMAGES = {}\n",
    "import pygame\n",
    "from pygame.locals import *\n",
    "from sys import exit #引入sys中exit函数\n",
    "\n",
    "#初始化pygame\n",
    "pygame.init()\n",
    "\n",
    "#创建了窗口\n",
    "SCREEN = pygame.display.set_mode((SCREENWIDTH, SCREENHEIGHT))\n",
    "\n",
    "#设置窗口标题\n",
    "pygame.display.set_caption(\"Flappy Bird\")\n",
    "\n",
    "#load图像，convert vs convert_alpha!\n",
    "IMAGES['background'] = pygame.image.load(BACKGROUND_PATH).convert()\n",
    "IMAGES['base'] = pygame.image.load(BASE_PATH).convert_alpha()\n",
    "IMAGES['bird'] = (\n",
    "    pygame.image.load(PLAYER_PATH[0]).convert_alpha(),\n",
    "    pygame.image.load(PLAYER_PATH[1]).convert_alpha(),\n",
    "    pygame.image.load(PLAYER_PATH[2]).convert_alpha(),\n",
    ")\n",
    "IMAGES['pipe'] = (\n",
    "    pygame.transform.rotate(pygame.image.load(PIPE_PATH).convert_alpha(), 180),\n",
    "    pygame.image.load(PIPE_PATH).convert_alpha()\n",
    ")\n",
    "\n",
    "PIPE_WIDTH = IMAGES['pipe'][0].get_width()\n",
    "PIPE_HEIGHT = IMAGES['pipe'][0].get_height()\n",
    "\n",
    "while True:\n",
    "    for event in pygame.event.get():\n",
    "        if event.type == QUIT:\n",
    "            exit()\n",
    "\n",
    "    # background\n",
    "    SCREEN.blit(IMAGES['background'], (0,0))\n",
    "    SCREEN.blit(IMAGES['pipe'][0], (0,0))\n",
    "    SCREEN.blit(IMAGES['pipe'][1], (0,SCREENHEIGHT-PIPE_HEIGHT))\n",
    "\n",
    "    pygame.display.update()\n",
    "    #刷新一下画面"
   ]
  },
  {
   "cell_type": "code",
   "execution_count": null,
   "metadata": {
    "collapsed": true
   },
   "outputs": [],
   "source": []
  },
  {
   "cell_type": "markdown",
   "metadata": {},
   "source": [
    "### 2.2 键盘操作-小鸟左右上下移动\n",
    "pygame_2.py"
   ]
  },
  {
   "cell_type": "code",
   "execution_count": null,
   "metadata": {
    "collapsed": true
   },
   "outputs": [],
   "source": []
  },
  {
   "cell_type": "code",
   "execution_count": null,
   "metadata": {
    "collapsed": true
   },
   "outputs": [],
   "source": [
    "# 基本的元素\n",
    "#FPS = 30\n",
    "playerIndex=0\n",
    "\n",
    "BACKGROUND_PATH = './assets/sprites/background-black.png'\n",
    "PIPE_PATH = './assets/sprites/pipe-green.png'\n",
    "BASE_PATH = './assets/sprites/base.png'\n",
    "PLAYER_PATH = (\n",
    "        './assets/sprites/redbird-upflap.png',\n",
    "        './assets/sprites/redbird-midflap.png',\n",
    "        './assets/sprites/redbird-downflap.png'\n",
    ")\n",
    "SCREENWIDTH  = 288\n",
    "SCREENHEIGHT = 512\n",
    "IMAGES = {}\n",
    "import pygame\n",
    "from pygame.locals import *\n",
    "from sys import exit #引入sys中exit函数\n",
    "\n",
    "#初始化pygame\n",
    "pygame.init()\n",
    "\n",
    "#创建了窗口\n",
    "SCREEN = pygame.display.set_mode((SCREENWIDTH, SCREENHEIGHT))\n",
    "\n",
    "#设置窗口标题\n",
    "pygame.display.set_caption(\"Flappy Bird\")\n",
    "\n",
    "#load图像，convert vs convert_alpha!\n",
    "IMAGES['background'] = pygame.image.load(BACKGROUND_PATH).convert()\n",
    "IMAGES['base'] = pygame.image.load(BASE_PATH).convert_alpha()\n",
    "IMAGES['bird'] = (\n",
    "    pygame.image.load(PLAYER_PATH[0]).convert_alpha(),\n",
    "    pygame.image.load(PLAYER_PATH[1]).convert_alpha(),\n",
    "    pygame.image.load(PLAYER_PATH[2]).convert_alpha(),\n",
    ")\n",
    "IMAGES['pipe'] = (\n",
    "    pygame.transform.rotate(pygame.image.load(PIPE_PATH).convert_alpha(), 180),\n",
    "    pygame.image.load(PIPE_PATH).convert_alpha()\n",
    ")\n",
    "\n",
    "PIPE_WIDTH = IMAGES['pipe'][0].get_width()\n",
    "PIPE_HEIGHT = IMAGES['pipe'][0].get_height()\n",
    "\n",
    "# 小鸟坐标初始化\n",
    "x = 1/2 * SCREENWIDTH\n",
    "y = 1/2 * SCREENHEIGHT\n",
    "move_x = 0\n",
    "move_y = 0\n",
    "\n",
    "while True:\n",
    "    for event in pygame.event.get():\n",
    "        if event.type == QUIT:\n",
    "            exit()\n",
    "        if event.type == KEYDOWN:\n",
    "            if event.key == K_LEFT:\n",
    "                move_x = -3\n",
    "            elif event.key == K_RIGHT:\n",
    "                move_x = 3\n",
    "            elif event.key == K_UP:\n",
    "                move_y = -3\n",
    "            elif event.key == K_DOWN:\n",
    "                move_y = 3\n",
    "        elif event.type == KEYUP:\n",
    "            move_x = 0\n",
    "            move_y = 0\n",
    "                \n",
    "        x = x + move_x\n",
    "        y = y + move_y\n",
    "        \n",
    "    # background\n",
    "    SCREEN.blit(IMAGES['background'], (0,0))\n",
    "    SCREEN.blit(IMAGES['pipe'][0], (0,0))\n",
    "    SCREEN.blit(IMAGES['pipe'][1], (0,SCREENHEIGHT-PIPE_HEIGHT))\n",
    "    SCREEN.blit(IMAGES['bird'][0],(x,y))\n",
    "    \n",
    "    pygame.display.update()\n",
    "    #FPSCLOCK.tick(FPS)\n",
    "\n",
    "    #刷新一下画面\n"
   ]
  },
  {
   "cell_type": "code",
   "execution_count": null,
   "metadata": {
    "collapsed": true
   },
   "outputs": [],
   "source": []
  },
  {
   "cell_type": "code",
   "execution_count": null,
   "metadata": {
    "collapsed": true
   },
   "outputs": [],
   "source": []
  },
  {
   "cell_type": "markdown",
   "metadata": {},
   "source": [
    "### 2.3 键盘操作-小鸟飞起来\n",
    "FPS 帧率"
   ]
  },
  {
   "cell_type": "code",
   "execution_count": null,
   "metadata": {
    "collapsed": true
   },
   "outputs": [],
   "source": [
    "# 基本的元素\n",
    "#FPS = 30\n",
    "playerIndex=0\n",
    "\n",
    "BACKGROUND_PATH = './assets/sprites/background-black.png'\n",
    "PIPE_PATH = './assets/sprites/pipe-green.png'\n",
    "BASE_PATH = './assets/sprites/base.png'\n",
    "PLAYER_PATH = (\n",
    "        './assets/sprites/redbird-upflap.png',\n",
    "        './assets/sprites/redbird-midflap.png',\n",
    "        './assets/sprites/redbird-downflap.png'\n",
    ")\n",
    "SCREENWIDTH  = 288\n",
    "SCREENHEIGHT = 512\n",
    "IMAGES = {}\n",
    "import pygame\n",
    "from pygame.locals import *\n",
    "from sys import exit #引入sys中exit函数\n",
    "\n",
    "#初始化pygame\n",
    "pygame.init()\n",
    "\n",
    "#创建了窗口\n",
    "SCREEN = pygame.display.set_mode((SCREENWIDTH, SCREENHEIGHT))\n",
    "\n",
    "#设置窗口标题\n",
    "pygame.display.set_caption(\"Flappy Bird\")\n",
    "\n",
    "#load图像，convert vs convert_alpha!\n",
    "IMAGES['background'] = pygame.image.load(BACKGROUND_PATH).convert()\n",
    "IMAGES['base'] = pygame.image.load(BASE_PATH).convert_alpha()\n",
    "IMAGES['bird'] = (\n",
    "    pygame.image.load(PLAYER_PATH[0]).convert_alpha(),\n",
    "    pygame.image.load(PLAYER_PATH[1]).convert_alpha(),\n",
    "    pygame.image.load(PLAYER_PATH[2]).convert_alpha(),\n",
    ")\n",
    "IMAGES['pipe'] = (\n",
    "    pygame.transform.rotate(pygame.image.load(PIPE_PATH).convert_alpha(), 180),\n",
    "    pygame.image.load(PIPE_PATH).convert_alpha()\n",
    ")\n",
    "\n",
    "PIPE_WIDTH = IMAGES['pipe'][0].get_width()\n",
    "PIPE_HEIGHT = IMAGES['pipe'][0].get_height()\n",
    "\n",
    "# 小鸟坐标初始化\n",
    "x = 1/2 * SCREENWIDTH\n",
    "y = 1/2 * SCREENHEIGHT\n",
    "move_x = 0\n",
    "move_y = 0\n",
    "\n",
    "while True:\n",
    "    for event in pygame.event.get():\n",
    "        if event.type == QUIT:\n",
    "            exit()\n",
    "\n",
    "                \n",
    "    x = x + 1\n",
    "    y = y + 1\n",
    "    \n",
    "    if x>SCREENWIDTH:\n",
    "        x=0\n",
    "\n",
    "    if y>SCREENHEIGHT:\n",
    "        y=0\n",
    "    # background\n",
    "    SCREEN.blit(IMAGES['background'], (0,0))\n",
    "    SCREEN.blit(IMAGES['pipe'][0], (0,0))\n",
    "    SCREEN.blit(IMAGES['pipe'][1], (0,SCREENHEIGHT-PIPE_HEIGHT))\n",
    "    SCREEN.blit(IMAGES['bird'][0],(x,y))\n",
    "    \n",
    "    pygame.display.update()\n",
    "    #FPSCLOCK.tick(FPS)\n",
    "\n",
    "    #刷新一下画面\n"
   ]
  },
  {
   "cell_type": "code",
   "execution_count": null,
   "metadata": {
    "collapsed": true
   },
   "outputs": [],
   "source": []
  }
 ],
 "metadata": {
  "kernelspec": {
   "display_name": "Python 3",
   "language": "python",
   "name": "python3"
  },
  "language_info": {
   "codemirror_mode": {
    "name": "ipython",
    "version": 3
   },
   "file_extension": ".py",
   "mimetype": "text/x-python",
   "name": "python",
   "nbconvert_exporter": "python",
   "pygments_lexer": "ipython3",
   "version": "3.6.3"
  }
 },
 "nbformat": 4,
 "nbformat_minor": 2
}
