{
 "cells": [
  {
   "cell_type": "markdown",
   "metadata": {},
   "source": [
    "# Pygame 游戏控制\n",
    "\n",
    "\n",
    "1. Pygame缔造者: Sam Lantinga\n",
    "2. Pygame基础操作\n",
    "    "
   ]
  },
  {
   "cell_type": "markdown",
   "metadata": {},
   "source": [
    "## 1. Pygame缔造者: Sam Lantinga"
   ]
  },
  {
   "cell_type": "markdown",
   "metadata": {},
   "source": [
    "拜见大神Sam Lantinga\n",
    "\n",
    "<img src='./course_related/Sam.jpg',width=500>"
   ]
  },
  {
   "cell_type": "markdown",
   "metadata": {},
   "source": [
    "* 致力于将windows下的游戏移植到Linux下面\n",
    "    * Civilization: Call To Power 文明\n",
    "    * 等等\n",
    "* 暴雪的首席程序员\n",
    "    * 魔兽世界Linux版\n",
    "* 被Steam招募"
   ]
  },
  {
   "cell_type": "markdown",
   "metadata": {},
   "source": [
    "# 2. Pygame基本操作"
   ]
  },
  {
   "cell_type": "markdown",
   "metadata": {},
   "source": [
    "> for event in pygame.event.get():\n",
    "\n",
    ">        if event.type == QUIT:\n",
    "\n",
    ">            exit()\n"
   ]
  },
  {
   "cell_type": "code",
   "execution_count": null,
   "metadata": {
    "collapsed": true
   },
   "outputs": [],
   "source": []
  },
  {
   "cell_type": "code",
   "execution_count": null,
   "metadata": {
    "collapsed": true
   },
   "outputs": [],
   "source": []
  },
  {
   "cell_type": "markdown",
   "metadata": {},
   "source": [
    "### 2.1. flappy bird基本背景图像\n"
   ]
  },
  {
   "cell_type": "markdown",
   "metadata": {},
   "source": [
    "* pygame_1.py\n",
    "    * pygame.init()\n",
    "    * SCREEN = pygame.display.set_mode((SCREENWIDTH, SCREENHEIGHT))\n",
    "    * pygame.image.load\n",
    "    * SCREEN.blit(IMAGES['pipe'][0], (0,0))"
   ]
  },
  {
   "cell_type": "code",
   "execution_count": null,
   "metadata": {
    "collapsed": true
   },
   "outputs": [],
   "source": []
  },
  {
   "cell_type": "markdown",
   "metadata": {},
   "source": [
    "### 2.2 键盘操作-小鸟左右移动\n",
    "* pygame_2.py"
   ]
  },
  {
   "cell_type": "code",
   "execution_count": null,
   "metadata": {
    "collapsed": true
   },
   "outputs": [],
   "source": [
    "if event.type == KEYDOWN:\n",
    "        if event.key == K_LEFT:\n",
    "            move_x = -3\n",
    "        elif event.key == K_RIGHT:\n",
    "            move_x = 3\n",
    "        elif event.key == K_UP:\n",
    "            move_y = -3\n",
    "        elif event.key == K_DOWN:\n",
    "            move_y = 3\n",
    "elif event.type == KEYUP:\n",
    "     move_x = 0\n",
    "     move_y = 0\n"
   ]
  },
  {
   "cell_type": "markdown",
   "metadata": {},
   "source": [
    "### 2.3 扑腾扑腾翅膀\n",
    "\n",
    "* 帧率 FPS\n",
    "* 如果不设置 FPS将会怎样\n",
    "    * pygame_no_fps.py\n",
    "* 设置后 FPS将会怎样\n",
    "    * pygame_fps.py\n",
    "* 小鸟扑哧飞\n",
    "    * pygame_3.py"
   ]
  },
  {
   "cell_type": "code",
   "execution_count": null,
   "metadata": {
    "collapsed": true
   },
   "outputs": [],
   "source": []
  },
  {
   "cell_type": "markdown",
   "metadata": {},
   "source": [
    "### 2.4 柱子的移动"
   ]
  },
  {
   "cell_type": "markdown",
   "metadata": {},
   "source": [
    "* 生成一对柱子\n",
    "    * 随机函数\n",
    "* 移动柱子\n",
    "    * pygame_4.py"
   ]
  },
  {
   "cell_type": "code",
   "execution_count": null,
   "metadata": {
    "collapsed": true
   },
   "outputs": [],
   "source": []
  },
  {
   "cell_type": "markdown",
   "metadata": {},
   "source": [
    "### 2.5 生成一系列的柱子，并且移动\n",
    "* 按需生成\n",
    "* 按需消灭\n",
    "> pygame_5.py\n",
    "\n",
    "* gap 变异\n",
    "\n",
    "> pygame_5.1.py\n",
    "\n",
    "> getRandomPipe()"
   ]
  },
  {
   "cell_type": "code",
   "execution_count": null,
   "metadata": {
    "collapsed": true
   },
   "outputs": [],
   "source": []
  },
  {
   "cell_type": "markdown",
   "metadata": {},
   "source": [
    "### 2.6 让小鸟飞起来"
   ]
  },
  {
   "cell_type": "code",
   "execution_count": null,
   "metadata": {
    "collapsed": true
   },
   "outputs": [],
   "source": []
  }
 ],
 "metadata": {
  "kernelspec": {
   "display_name": "Python 3",
   "language": "python",
   "name": "python3"
  },
  "language_info": {
   "codemirror_mode": {
    "name": "ipython",
    "version": 3
   },
   "file_extension": ".py",
   "mimetype": "text/x-python",
   "name": "python",
   "nbconvert_exporter": "python",
   "pygments_lexer": "ipython3",
   "version": "3.6.3"
  }
 },
 "nbformat": 4,
 "nbformat_minor": 2
}
