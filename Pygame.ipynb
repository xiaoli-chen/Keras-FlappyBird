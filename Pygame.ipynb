{
 "cells": [
  {
   "cell_type": "markdown",
   "metadata": {},
   "source": [
    "# Pygame 基础操作\n",
    "\n",
    "\n",
    "1. Pygame缔造者: Sam Lantinga\n",
    "2. Pygame基础操作\n",
    "    * flappy bird基本背景图像"
   ]
  },
  {
   "cell_type": "markdown",
   "metadata": {},
   "source": [
    "## 1. Pygame缔造者: Sam Lantinga"
   ]
  },
  {
   "cell_type": "markdown",
   "metadata": {},
   "source": [
    "拜见大神Sam Lantinga\n",
    "\n",
    "<img src='./course_related/Sam.jpg',width=500>"
   ]
  },
  {
   "cell_type": "markdown",
   "metadata": {},
   "source": [
    "* 致力于将windows下的游戏移植到Linux下面\n",
    "    * Civilization: Call To Power 文明\n",
    "    * 等等\n",
    "* 暴雪的首席程序员\n",
    "    * 魔兽世界Linux版\n",
    "* 被Steam招募"
   ]
  },
  {
   "cell_type": "markdown",
   "metadata": {},
   "source": [
    "# 2. Pygame基本操作\n",
    "1. flappy bird基本背景图像\n"
   ]
  },
  {
   "cell_type": "code",
   "execution_count": null,
   "metadata": {
    "collapsed": true
   },
   "outputs": [],
   "source": []
  },
  {
   "cell_type": "code",
   "execution_count": null,
   "metadata": {
    "collapsed": true
   },
   "outputs": [],
   "source": []
  },
  {
   "cell_type": "code",
   "execution_count": null,
   "metadata": {
    "collapsed": true
   },
   "outputs": [],
   "source": []
  },
  {
   "cell_type": "code",
   "execution_count": 21,
   "metadata": {
    "collapsed": false
   },
   "outputs": [
    {
     "ename": "KeyboardInterrupt",
     "evalue": "",
     "output_type": "error",
     "traceback": [
      "\u001b[0;31m---------------------------------------------------------------------------\u001b[0m",
      "\u001b[0;31mKeyboardInterrupt\u001b[0m                         Traceback (most recent call last)",
      "\u001b[0;32m<ipython-input-21-49c5f1991824>\u001b[0m in \u001b[0;36m<module>\u001b[0;34m()\u001b[0m\n\u001b[1;32m     47\u001b[0m \u001b[0;34m\u001b[0m\u001b[0m\n\u001b[1;32m     48\u001b[0m \u001b[0;34m\u001b[0m\u001b[0m\n\u001b[0;32m---> 49\u001b[0;31m     \u001b[0mpygame\u001b[0m\u001b[0;34m.\u001b[0m\u001b[0mdisplay\u001b[0m\u001b[0;34m.\u001b[0m\u001b[0mupdate\u001b[0m\u001b[0;34m(\u001b[0m\u001b[0;34m)\u001b[0m\u001b[0;34m\u001b[0m\u001b[0m\n\u001b[0m\u001b[1;32m     50\u001b[0m     \u001b[0;31m#刷新一下画面\u001b[0m\u001b[0;34m\u001b[0m\u001b[0;34m\u001b[0m\u001b[0m\n",
      "\u001b[0;31mKeyboardInterrupt\u001b[0m: "
     ]
    }
   ],
   "source": [
    "# 基本的元素\n",
    "BACKGROUND_PATH = './assets/sprites/background-black.png'\n",
    "PIPE_PATH = './assets/sprites/pipe-green.png'\n",
    "BASE_PATH = './assets/sprites/base.png'\n",
    "PLAYER_PATH = (\n",
    "        './assets/sprites/redbird-upflap.png',\n",
    "        './assets/sprites/redbird-midflap.png',\n",
    "        './assets/sprites/redbird-downflap.png'\n",
    ")\n",
    "SCREENWIDTH  = 288\n",
    "SCREENHEIGHT = 512\n",
    "IMAGES = {}\n",
    "import pygame\n",
    "from pygame.locals import *\n",
    "from sys import exit #引入sys中exit函数\n",
    "\n",
    "#初始化pygame,为使用硬件做准备\n",
    "pygame.init()\n",
    "\n",
    "#创建了窗口\n",
    "SCREEN = pygame.display.set_mode((SCREENWIDTH, SCREENHEIGHT))\n",
    "\n",
    "#设置窗口标题\n",
    "pygame.display.set_caption(\"Flappy Bird\")\n",
    "\n",
    "#load图像，convert vs convert_alpha!\n",
    "IMAGES['background'] = pygame.image.load(BACKGROUND_PATH).convert()\n",
    "IMAGES['base'] = pygame.image.load(BASE_PATH).convert_alpha()\n",
    "IMAGES['bird'] = (\n",
    "    pygame.image.load(PLAYER_PATH[0]).convert_alpha(),\n",
    "    pygame.image.load(PLAYER_PATH[1]).convert_alpha(),\n",
    "    pygame.image.load(PLAYER_PATH[2]).convert_alpha(),\n",
    ")\n",
    "IMAGES['pipe'] = (\n",
    "    pygame.transform.rotate(\n",
    "        pygame.image.load(PIPE_PATH).convert_alpha(), 180),\n",
    "    pygame.image.load(PIPE_PATH).convert_alpha(),\n",
    ")\n",
    "\n",
    "while True:\n",
    "    for event in pygame.event.get():\n",
    "        if event.type == QUIT:\n",
    "            exit()\n",
    "        \n",
    "        if event.type == KEYDOWN:\n",
    "            if event.key == pygame.K_q:\n",
    "                exit()\n",
    "\n",
    "    # background\n",
    "    SCREEN.blit(IMAGES['background'], (0,0))\n",
    "    SCREEN.blit(IMAGES['pipe'][0], (0,0))\n",
    "\n",
    "\n",
    "    pygame.display.update()\n",
    "    #刷新一下画面"
   ]
  },
  {
   "cell_type": "code",
   "execution_count": 1,
   "metadata": {
    "collapsed": true
   },
   "outputs": [],
   "source": [
    "import pygame\n",
    "import sys"
   ]
  },
  {
   "cell_type": "code",
   "execution_count": 3,
   "metadata": {
    "collapsed": true
   },
   "outputs": [],
   "source": [
    "pygame.transform.rotate?"
   ]
  },
  {
   "cell_type": "code",
   "execution_count": 5,
   "metadata": {
    "collapsed": false
   },
   "outputs": [],
   "source": [
    "PIPE_PATH = 'assets/sprites/pipe-green.png'\n",
    "PLAYER_PATH = (\n",
    "        'assets/sprites/redbird-upflap.png',\n",
    "        'assets/sprites/redbird-midflap.png',\n",
    "        'assets/sprites/redbird-downflap.png'\n",
    ")\n",
    "# IMAGES['pipe'] = (\n",
    "#     pygame.transform.rotate(\n",
    "#         pygame.image.load(PIPE_PATH).convert_alpha(), 180),\n",
    "#     pygame.image.load(PIPE_PATH).convert_alpha(),\n",
    "# )"
   ]
  },
  {
   "cell_type": "code",
   "execution_count": 7,
   "metadata": {
    "collapsed": false
   },
   "outputs": [],
   "source": [
    "pipe_still = pygame.image.load(PIPE_PATH)"
   ]
  },
  {
   "cell_type": "code",
   "execution_count": 8,
   "metadata": {
    "collapsed": false
   },
   "outputs": [
    {
     "data": {
      "text/plain": [
       "<Surface(52x320x32 SW)>"
      ]
     },
     "execution_count": 8,
     "metadata": {},
     "output_type": "execute_result"
    }
   ],
   "source": [
    "pipe_still."
   ]
  },
  {
   "cell_type": "code",
   "execution_count": 11,
   "metadata": {
    "collapsed": false
   },
   "outputs": [
    {
     "data": {
      "text/plain": [
       "'1.9.3'"
      ]
     },
     "execution_count": 11,
     "metadata": {},
     "output_type": "execute_result"
    }
   ],
   "source": [
    "pygame.ver"
   ]
  },
  {
   "cell_type": "code",
   "execution_count": null,
   "metadata": {
    "collapsed": true
   },
   "outputs": [],
   "source": []
  }
 ],
 "metadata": {
  "kernelspec": {
   "display_name": "Python 3",
   "language": "python",
   "name": "python3"
  },
  "language_info": {
   "codemirror_mode": {
    "name": "ipython",
    "version": 3
   },
   "file_extension": ".py",
   "mimetype": "text/x-python",
   "name": "python",
   "nbconvert_exporter": "python",
   "pygments_lexer": "ipython3",
   "version": "3.6.3"
  }
 },
 "nbformat": 4,
 "nbformat_minor": 2
}
